{
 "cells": [
  {
   "cell_type": "code",
   "execution_count": 6,
   "id": "fb2bb48b-adfd-45eb-b522-3d666167574a",
   "metadata": {},
   "outputs": [
    {
     "name": "stdout",
     "output_type": "stream",
     "text": [
      "WARNING:tensorflow:From C:\\Users\\pdeva\\AppData\\Roaming\\Python\\Python311\\site-packages\\keras\\src\\losses.py:2976: The name tf.losses.sparse_softmax_cross_entropy is deprecated. Please use tf.compat.v1.losses.sparse_softmax_cross_entropy instead.\n",
      "\n"
     ]
    }
   ],
   "source": [
    "from keras.utils import to_categorical\n",
    "from keras.preprocessing.image import load_img, img_to_array\n",
    "from keras.models import Sequential\n",
    "from keras.layers import Dense, Conv2D, Dropout, Flatten, MaxPooling2D\n",
    "import os\n",
    "import pandas as pd\n",
    "import numpy as np\n",
    "from tqdm.notebook import tqdm\n"
   ]
  },
  {
   "cell_type": "code",
   "execution_count": null,
   "id": "58dc5749-07b0-4aee-8828-88885eaaa1af",
   "metadata": {},
   "outputs": [],
   "source": []
  },
  {
   "cell_type": "code",
   "execution_count": 7,
   "id": "327ebba2-a35a-4af1-a465-bd7a3b3a676b",
   "metadata": {},
   "outputs": [],
   "source": [
    "TRAIN_DIR = 'archive/train'\n",
    "TEST_DIR = 'archive/test'"
   ]
  },
  {
   "cell_type": "code",
   "execution_count": 8,
   "id": "35c06578-6362-4781-a86d-825e48ac19ca",
   "metadata": {},
   "outputs": [],
   "source": [
    "def createdataframe(directory):\n",
    "    image_paths = []\n",
    "    labels = [] \n",
    "    for label in os.listdir(directory):\n",
    "        for imagename in os.listdir(os.path.join(directory, label)):\n",
    "            image_paths.append(os.path.join(directory, label, imagename))\n",
    "            labels.append(label)\n",
    "        print(label, \"completed\")\n",
    "    return image_paths, labels"
   ]
  },
  {
   "cell_type": "code",
   "execution_count": 9,
   "id": "b5d0bc7a-32fc-4e4d-abf7-6aea00001822",
   "metadata": {},
   "outputs": [
    {
     "name": "stdout",
     "output_type": "stream",
     "text": [
      "glioma_tumor completed\n",
      "meningioma_tumor completed\n",
      "no_tumor completed\n",
      "pituitary_tumor completed\n"
     ]
    }
   ],
   "source": [
    "train = pd.DataFrame()\n",
    "train['image'], train['label'] = createdataframe(TRAIN_DIR)"
   ]
  },
  {
   "cell_type": "code",
   "execution_count": 10,
   "id": "ee812075-5826-475b-a492-4286f83c33ff",
   "metadata": {},
   "outputs": [
    {
     "name": "stdout",
     "output_type": "stream",
     "text": [
      "                                         image            label\n",
      "0        archive/train\\glioma_tumor\\gg (1).jpg     glioma_tumor\n",
      "1       archive/train\\glioma_tumor\\gg (10).jpg     glioma_tumor\n",
      "2      archive/train\\glioma_tumor\\gg (100).jpg     glioma_tumor\n",
      "3      archive/train\\glioma_tumor\\gg (101).jpg     glioma_tumor\n",
      "4      archive/train\\glioma_tumor\\gg (102).jpg     glioma_tumor\n",
      "...                                        ...              ...\n",
      "2865  archive/train\\pituitary_tumor\\p (95).jpg  pituitary_tumor\n",
      "2866  archive/train\\pituitary_tumor\\p (96).jpg  pituitary_tumor\n",
      "2867  archive/train\\pituitary_tumor\\p (97).jpg  pituitary_tumor\n",
      "2868  archive/train\\pituitary_tumor\\p (98).jpg  pituitary_tumor\n",
      "2869  archive/train\\pituitary_tumor\\p (99).jpg  pituitary_tumor\n",
      "\n",
      "[2870 rows x 2 columns]\n"
     ]
    }
   ],
   "source": [
    "print(train)"
   ]
  },
  {
   "cell_type": "code",
   "execution_count": 11,
   "id": "47439cd8-983e-441f-9d21-91446da97e92",
   "metadata": {},
   "outputs": [
    {
     "name": "stdout",
     "output_type": "stream",
     "text": [
      "glioma_tumor completed\n",
      "meningioma_tumor completed\n",
      "no_tumor completed\n",
      "pituitary_tumor completed\n"
     ]
    }
   ],
   "source": [
    "test = pd.DataFrame()\n",
    "test['image'], test['label'] = createdataframe(TEST_DIR)"
   ]
  },
  {
   "cell_type": "code",
   "execution_count": 12,
   "id": "1278f50b-296b-437d-94db-6a7e3e81184a",
   "metadata": {},
   "outputs": [
    {
     "name": "stdout",
     "output_type": "stream",
     "text": [
      "                                          image            label\n",
      "0        archive/test\\glioma_tumor\\image(1).jpg     glioma_tumor\n",
      "1       archive/test\\glioma_tumor\\image(10).jpg     glioma_tumor\n",
      "2      archive/test\\glioma_tumor\\image(100).jpg     glioma_tumor\n",
      "3       archive/test\\glioma_tumor\\image(11).jpg     glioma_tumor\n",
      "4       archive/test\\glioma_tumor\\image(12).jpg     glioma_tumor\n",
      "..                                          ...              ...\n",
      "389  archive/test\\pituitary_tumor\\image(95).jpg  pituitary_tumor\n",
      "390  archive/test\\pituitary_tumor\\image(96).jpg  pituitary_tumor\n",
      "391  archive/test\\pituitary_tumor\\image(97).jpg  pituitary_tumor\n",
      "392  archive/test\\pituitary_tumor\\image(98).jpg  pituitary_tumor\n",
      "393      archive/test\\pituitary_tumor\\image.jpg  pituitary_tumor\n",
      "\n",
      "[394 rows x 2 columns]\n",
      "0          archive/test\\glioma_tumor\\image(1).jpg\n",
      "1         archive/test\\glioma_tumor\\image(10).jpg\n",
      "2        archive/test\\glioma_tumor\\image(100).jpg\n",
      "3         archive/test\\glioma_tumor\\image(11).jpg\n",
      "4         archive/test\\glioma_tumor\\image(12).jpg\n",
      "                          ...                    \n",
      "389    archive/test\\pituitary_tumor\\image(95).jpg\n",
      "390    archive/test\\pituitary_tumor\\image(96).jpg\n",
      "391    archive/test\\pituitary_tumor\\image(97).jpg\n",
      "392    archive/test\\pituitary_tumor\\image(98).jpg\n",
      "393        archive/test\\pituitary_tumor\\image.jpg\n",
      "Name: image, Length: 394, dtype: object\n"
     ]
    }
   ],
   "source": [
    "print(test)\n",
    "print(test['image'])"
   ]
  },
  {
   "cell_type": "code",
   "execution_count": 13,
   "id": "1974560b-0427-4908-998e-3400c67c0c5c",
   "metadata": {},
   "outputs": [],
   "source": [
    "from tqdm.notebook import tqdm"
   ]
  },
  {
   "cell_type": "code",
   "execution_count": 14,
   "id": "7ac68f2c-3459-4edb-81bc-132e5d772c1b",
   "metadata": {},
   "outputs": [],
   "source": [
    "def extract_features(images):\n",
    "    features = []\n",
    "    for image in tqdm(images):\n",
    "        img = load_img(image, color_mode='grayscale', target_size=(557,641))\n",
    "        img_array = img_to_array(img)\n",
    "        features.append(img_array)\n",
    "    features = np.array(features)\n",
    "    return features\n"
   ]
  },
  {
   "cell_type": "code",
   "execution_count": 15,
   "id": "a3c8d6e2-7f5d-4fcd-8fa7-724e7594d1ec",
   "metadata": {},
   "outputs": [
    {
     "data": {
      "application/vnd.jupyter.widget-view+json": {
       "model_id": "47293ceb434645b8a7c2d3b151bd5338",
       "version_major": 2,
       "version_minor": 0
      },
      "text/plain": [
       "  0%|          | 0/2870 [00:00<?, ?it/s]"
      ]
     },
     "metadata": {},
     "output_type": "display_data"
    }
   ],
   "source": [
    "train_features = extract_features(train['image'])"
   ]
  },
  {
   "cell_type": "code",
   "execution_count": 17,
   "id": "5933ef72-64e8-44de-8983-ca0c772e2b46",
   "metadata": {},
   "outputs": [
    {
     "data": {
      "application/vnd.jupyter.widget-view+json": {
       "model_id": "f9dc44e0d26e47c38abb22fad1ed8ca2",
       "version_major": 2,
       "version_minor": 0
      },
      "text/plain": [
       "  0%|          | 0/394 [00:00<?, ?it/s]"
      ]
     },
     "metadata": {},
     "output_type": "display_data"
    }
   ],
   "source": [
    "test_features = extract_features(test['image'])"
   ]
  },
  {
   "cell_type": "code",
   "execution_count": 32,
   "id": "806a160b-d4be-42bf-a431-60e343fb668b",
   "metadata": {},
   "outputs": [],
   "source": [
    "x_train = train_features / 255.0\n",
    "x_test = test_features / 255.0"
   ]
  },
  {
   "cell_type": "code",
   "execution_count": null,
   "id": "80ff3207-75f0-416d-829c-c62092db0c38",
   "metadata": {},
   "outputs": [],
   "source": [
    "from sklearn.preprocessing import LabelEncoder"
   ]
  },
  {
   "cell_type": "code",
   "execution_count": null,
   "id": "461cc4a6-ad25-4459-ac75-e87141a644df",
   "metadata": {},
   "outputs": [],
   "source": [
    "le = LabelEncoder()\n",
    "le.fit(train['label'])"
   ]
  },
  {
   "cell_type": "code",
   "execution_count": null,
   "id": "27aaff27-a63b-49da-b6bd-58f83d1595cd",
   "metadata": {},
   "outputs": [],
   "source": [
    "y_train = le.transform(train['label'])\n",
    "y_test = le.transform(test['label'])"
   ]
  },
  {
   "cell_type": "code",
   "execution_count": null,
   "id": "5508eeca-63c3-40b2-9c15-a151eddadbf0",
   "metadata": {},
   "outputs": [],
   "source": [
    "y_train = to_categorical(y_train, num_classes=4)\n",
    "y_test = to_categorical(y_test, num_classes=4)"
   ]
  },
  {
   "cell_type": "code",
   "execution_count": null,
   "id": "78045652-c5bd-4d38-bf73-ac6f41f7a062",
   "metadata": {},
   "outputs": [],
   "source": [
    "model = Sequential()\n",
    "model.add(Conv2D(128, kernel_size=(3, 3), activation='relu', input_shape=(557, 641, 1)))\n",
    "model.add(MaxPooling2D(pool_size=(2, 2)))\n",
    "model.add(Dropout(0.4))\n",
    "\n",
    "model.add(Conv2D(256, kernel_size=(3, 3), activation='relu'))\n",
    "model.add(MaxPooling2D(pool_size=(2, 2)))\n",
    "model.add(Dropout(0.4))\n",
    "\n",
    "model.add(Conv2D(512, kernel_size=(3, 3), activation='relu'))\n",
    "model.add(MaxPooling2D(pool_size=(2, 2)))\n",
    "model.add(Dropout(0.4))\n",
    "\n",
    "model.add(Conv2D(512, kernel_size=(3, 3), activation='relu'))\n",
    "model.add(MaxPooling2D(pool_size=(2, 2)))\n",
    "model.add(Dropout(0.4))\n",
    "\n",
    "model.add(Flatten())\n",
    "model.add(Dense(512, activation='relu'))\n",
    "model.add(Dropout(0.4))\n",
    "model.add(Dense(256, activation='relu'))\n",
    "model.add(Dropout(0.3))\n",
    "model.add(Dense(7, activation='softmax'))"
   ]
  },
  {
   "cell_type": "code",
   "execution_count": null,
   "id": "e03a8904-43d9-4992-87b1-f17808f7aa14",
   "metadata": {},
   "outputs": [],
   "source": [
    "model.compile(optimizer='adam', loss='categorical_crossentropy', metrics=['accuracy'])"
   ]
  },
  {
   "cell_type": "code",
   "execution_count": 34,
   "id": "234879f3-e920-4f7c-9019-559fa71bc211",
   "metadata": {},
   "outputs": [
    {
     "ename": "NameError",
     "evalue": "name 'y_train' is not defined",
     "output_type": "error",
     "traceback": [
      "\u001b[1;31m---------------------------------------------------------------------------\u001b[0m",
      "\u001b[1;31mNameError\u001b[0m                                 Traceback (most recent call last)",
      "Cell \u001b[1;32mIn[34], line 1\u001b[0m\n\u001b[1;32m----> 1\u001b[0m model\u001b[38;5;241m.\u001b[39mfit(x\u001b[38;5;241m=\u001b[39mx_train, y\u001b[38;5;241m=\u001b[39m\u001b[43my_train\u001b[49m, batch_size\u001b[38;5;241m=\u001b[39m\u001b[38;5;241m128\u001b[39m, epochs\u001b[38;5;241m=\u001b[39m\u001b[38;5;241m100\u001b[39m, validation_data\u001b[38;5;241m=\u001b[39m(x_test, y_test))\n",
      "\u001b[1;31mNameError\u001b[0m: name 'y_train' is not defined"
     ]
    }
   ],
   "source": [
    "model.fit(x=x_train, y=y_train, batch_size=128, epochs=100, validation_data=(x_test, y_test))"
   ]
  },
  {
   "cell_type": "code",
   "execution_count": null,
   "id": "a730e325-7926-41bb-9c45-764dddfb9e61",
   "metadata": {},
   "outputs": [],
   "source": [
    "model_json = model.to_json()\n",
    "with open(\"tumordetector.json\",\"w\") as json_file:\n",
    "    json_file.write(model_json)\n",
    "model.save(\"tumordetector.json.h5\")"
   ]
  },
  {
   "cell_type": "code",
   "execution_count": null,
   "id": "0c0d4502-1ec3-4918-8eb7-844272ba6088",
   "metadata": {},
   "outputs": [],
   "source": []
  }
 ],
 "metadata": {
  "kernelspec": {
   "display_name": "Python 3 (ipykernel)",
   "language": "python",
   "name": "python3"
  },
  "language_info": {
   "codemirror_mode": {
    "name": "ipython",
    "version": 3
   },
   "file_extension": ".py",
   "mimetype": "text/x-python",
   "name": "python",
   "nbconvert_exporter": "python",
   "pygments_lexer": "ipython3",
   "version": "3.11.4"
  }
 },
 "nbformat": 4,
 "nbformat_minor": 5
}
