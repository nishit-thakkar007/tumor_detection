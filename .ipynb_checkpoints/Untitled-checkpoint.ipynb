{
 "cells": [
  {
   "cell_type": "code",
   "execution_count": 25,
   "id": "fb2bb48b-adfd-45eb-b522-3d666167574a",
   "metadata": {},
   "outputs": [],
   "source": [
    "from keras.utils import to_categorical\n",
    "from keras.preprocessing.image import load_img, img_to_array\n",
    "from keras.models import Sequential\n",
    "from keras.layers import Dense, Conv2D, Dropout, Flatten, MaxPooling2D\n",
    "import os\n",
    "import pandas as pd\n",
    "import numpy as np\n",
    "from tqdm.notebook import tqdm\n"
   ]
  },
  {
   "cell_type": "code",
   "execution_count": null,
   "id": "58dc5749-07b0-4aee-8828-88885eaaa1af",
   "metadata": {},
   "outputs": [],
   "source": []
  },
  {
   "cell_type": "code",
   "execution_count": 26,
   "id": "327ebba2-a35a-4af1-a465-bd7a3b3a676b",
   "metadata": {},
   "outputs": [],
   "source": [
    "TRAIN_DIR = 'archive/train'\n",
    "TEST_DIR = 'archive/test'"
   ]
  },
  {
   "cell_type": "code",
   "execution_count": 27,
   "id": "35c06578-6362-4781-a86d-825e48ac19ca",
   "metadata": {},
   "outputs": [],
   "source": [
    "def createdataframe(directory):\n",
    "    image_paths = []\n",
    "    labels = [] \n",
    "    for label in os.listdir(directory):\n",
    "        for imagename in os.listdir(os.path.join(directory, label)):\n",
    "            image_paths.append(os.path.join(directory, label, imagename))\n",
    "            labels.append(label)\n",
    "        print(label, \"completed\")\n",
    "    return image_paths, labels"
   ]
  },
  {
   "cell_type": "code",
   "execution_count": 28,
   "id": "b5d0bc7a-32fc-4e4d-abf7-6aea00001822",
   "metadata": {},
   "outputs": [
    {
     "name": "stdout",
     "output_type": "stream",
     "text": [
      "glioma_tumor completed\n",
      "meningioma_tumor completed\n",
      "no_tumor completed\n",
      "pituitary_tumor completed\n"
     ]
    }
   ],
   "source": [
    "train = pd.DataFrame()\n",
    "train['image'], train['label'] = createdataframe(TRAIN_DIR)"
   ]
  },
  {
   "cell_type": "code",
   "execution_count": 29,
   "id": "ee812075-5826-475b-a492-4286f83c33ff",
   "metadata": {},
   "outputs": [
    {
     "name": "stdout",
     "output_type": "stream",
     "text": [
      "                                         image            label\n",
      "0        archive/train\\glioma_tumor\\gg (1).jpg     glioma_tumor\n",
      "1       archive/train\\glioma_tumor\\gg (10).jpg     glioma_tumor\n",
      "2      archive/train\\glioma_tumor\\gg (100).jpg     glioma_tumor\n",
      "3      archive/train\\glioma_tumor\\gg (101).jpg     glioma_tumor\n",
      "4      archive/train\\glioma_tumor\\gg (102).jpg     glioma_tumor\n",
      "...                                        ...              ...\n",
      "2865  archive/train\\pituitary_tumor\\p (95).jpg  pituitary_tumor\n",
      "2866  archive/train\\pituitary_tumor\\p (96).jpg  pituitary_tumor\n",
      "2867  archive/train\\pituitary_tumor\\p (97).jpg  pituitary_tumor\n",
      "2868  archive/train\\pituitary_tumor\\p (98).jpg  pituitary_tumor\n",
      "2869  archive/train\\pituitary_tumor\\p (99).jpg  pituitary_tumor\n",
      "\n",
      "[2870 rows x 2 columns]\n"
     ]
    }
   ],
   "source": [
    "print(train)"
   ]
  },
  {
   "cell_type": "code",
   "execution_count": 30,
   "id": "47439cd8-983e-441f-9d21-91446da97e92",
   "metadata": {},
   "outputs": [
    {
     "name": "stdout",
     "output_type": "stream",
     "text": [
      "glioma_tumor completed\n",
      "meningioma_tumor completed\n",
      "no_tumor completed\n",
      "pituitary_tumor completed\n"
     ]
    }
   ],
   "source": [
    "test = pd.DataFrame()\n",
    "test['image'], test['label'] = createdataframe(TEST_DIR)"
   ]
  },
  {
   "cell_type": "code",
   "execution_count": 31,
   "id": "1278f50b-296b-437d-94db-6a7e3e81184a",
   "metadata": {},
   "outputs": [
    {
     "name": "stdout",
     "output_type": "stream",
     "text": [
      "                                          image            label\n",
      "0        archive/test\\glioma_tumor\\image(1).jpg     glioma_tumor\n",
      "1       archive/test\\glioma_tumor\\image(10).jpg     glioma_tumor\n",
      "2      archive/test\\glioma_tumor\\image(100).jpg     glioma_tumor\n",
      "3       archive/test\\glioma_tumor\\image(11).jpg     glioma_tumor\n",
      "4       archive/test\\glioma_tumor\\image(12).jpg     glioma_tumor\n",
      "..                                          ...              ...\n",
      "389  archive/test\\pituitary_tumor\\image(95).jpg  pituitary_tumor\n",
      "390  archive/test\\pituitary_tumor\\image(96).jpg  pituitary_tumor\n",
      "391  archive/test\\pituitary_tumor\\image(97).jpg  pituitary_tumor\n",
      "392  archive/test\\pituitary_tumor\\image(98).jpg  pituitary_tumor\n",
      "393      archive/test\\pituitary_tumor\\image.jpg  pituitary_tumor\n",
      "\n",
      "[394 rows x 2 columns]\n",
      "0          archive/test\\glioma_tumor\\image(1).jpg\n",
      "1         archive/test\\glioma_tumor\\image(10).jpg\n",
      "2        archive/test\\glioma_tumor\\image(100).jpg\n",
      "3         archive/test\\glioma_tumor\\image(11).jpg\n",
      "4         archive/test\\glioma_tumor\\image(12).jpg\n",
      "                          ...                    \n",
      "389    archive/test\\pituitary_tumor\\image(95).jpg\n",
      "390    archive/test\\pituitary_tumor\\image(96).jpg\n",
      "391    archive/test\\pituitary_tumor\\image(97).jpg\n",
      "392    archive/test\\pituitary_tumor\\image(98).jpg\n",
      "393        archive/test\\pituitary_tumor\\image.jpg\n",
      "Name: image, Length: 394, dtype: object\n"
     ]
    }
   ],
   "source": [
    "print(test)\n",
    "print(test['image'])"
   ]
  },
  {
   "cell_type": "code",
   "execution_count": 32,
   "id": "1974560b-0427-4908-998e-3400c67c0c5c",
   "metadata": {},
   "outputs": [],
   "source": [
    "from tqdm.notebook import tqdm"
   ]
  },
  {
   "cell_type": "code",
   "execution_count": 35,
   "id": "7ac68f2c-3459-4edb-81bc-132e5d772c1b",
   "metadata": {},
   "outputs": [],
   "source": [
    "def extract_features(images):\n",
    "    features = []\n",
    "    for image in tqdm(images):\n",
    "        img = load_img(image, color_mode='grayscale', target_size=(557,641))\n",
    "        img_array = img_to_array(img)\n",
    "        features.append(img_array)\n",
    "    features = np.array(features)\n",
    "    return features\n"
   ]
  },
  {
   "cell_type": "code",
   "execution_count": null,
   "id": "a3c8d6e2-7f5d-4fcd-8fa7-724e7594d1ec",
   "metadata": {},
   "outputs": [
    {
     "data": {
      "application/vnd.jupyter.widget-view+json": {
       "model_id": "8f7881a3895846b0ae1ced05bcef8b13",
       "version_major": 2,
       "version_minor": 0
      },
      "text/plain": [
       "  0%|          | 0/2870 [00:00<?, ?it/s]"
      ]
     },
     "metadata": {},
     "output_type": "display_data"
    }
   ],
   "source": [
    "train_features = extract_features(train['image'])"
   ]
  },
  {
   "cell_type": "code",
   "execution_count": null,
   "id": "5933ef72-64e8-44de-8983-ca0c772e2b46",
   "metadata": {},
   "outputs": [],
   "source": [
    "test_features = extract_features(test['image'])"
   ]
  },
  {
   "cell_type": "code",
   "execution_count": null,
   "id": "806a160b-d4be-42bf-a431-60e343fb668b",
   "metadata": {},
   "outputs": [],
   "source": []
  }
 ],
 "metadata": {
  "kernelspec": {
   "display_name": "Python 3 (ipykernel)",
   "language": "python",
   "name": "python3"
  },
  "language_info": {
   "codemirror_mode": {
    "name": "ipython",
    "version": 3
   },
   "file_extension": ".py",
   "mimetype": "text/x-python",
   "name": "python",
   "nbconvert_exporter": "python",
   "pygments_lexer": "ipython3",
   "version": "3.11.4"
  }
 },
 "nbformat": 4,
 "nbformat_minor": 5
}
